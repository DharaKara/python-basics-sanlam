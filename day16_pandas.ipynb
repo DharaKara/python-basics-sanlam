{
 "cells": [
  {
   "cell_type": "markdown",
   "metadata": {},
   "source": [
    "## Pandas \n",
    "- Analyse 2D or multi dimensional data\n",
    "- Table like data \n",
    "- Internally they use numpy"
   ]
  },
  {
   "cell_type": "code",
   "execution_count": 5,
   "metadata": {},
   "outputs": [
    {
     "name": "stdout",
     "output_type": "stream",
     "text": [
      "Collecting pandasNote: you may need to restart the kernel to use updated packages.\n",
      "\n",
      "  Using cached pandas-2.2.1.tar.gz (4.4 MB)\n",
      "  Installing build dependencies: started\n",
      "  Installing build dependencies: finished with status 'done'\n",
      "  Getting requirements to build wheel: started\n",
      "  Getting requirements to build wheel: finished with status 'done'\n",
      "  Installing backend dependencies: started\n",
      "  Installing backend dependencies: finished with status 'done'\n",
      "  Preparing metadata (pyproject.toml): started\n",
      "  Preparing metadata (pyproject.toml): finished with status 'error'\n"
     ]
    },
    {
     "name": "stderr",
     "output_type": "stream",
     "text": [
      "  error: subprocess-exited-with-error\n",
      "  \n",
      "  × Preparing metadata (pyproject.toml) did not run successfully.\n",
      "  │ exit code: 1\n",
      "  ╰─> [12 lines of output]\n",
      "      + meson setup C:\\Users\\E1005238\\AppData\\Local\\Temp\\pip-install-1gyuezd1\\pandas_6483391ea07e4fc5b40be004f77c8ebe C:\\Users\\E1005238\\AppData\\Local\\Temp\\pip-install-1gyuezd1\\pandas_6483391ea07e4fc5b40be004f77c8ebe\\.mesonpy-p3t9k52i\\build -Dbuildtype=release -Db_ndebug=if-release -Db_vscrt=md --vsenv --native-file=C:\\Users\\E1005238\\AppData\\Local\\Temp\\pip-install-1gyuezd1\\pandas_6483391ea07e4fc5b40be004f77c8ebe\\.mesonpy-p3t9k52i\\build\\meson-python-native-file.ini\n",
      "      The Meson build system\n",
      "      Version: 1.2.1\n",
      "      Source dir: C:\\Users\\E1005238\\AppData\\Local\\Temp\\pip-install-1gyuezd1\\pandas_6483391ea07e4fc5b40be004f77c8ebe\n",
      "      Build dir: C:\\Users\\E1005238\\AppData\\Local\\Temp\\pip-install-1gyuezd1\\pandas_6483391ea07e4fc5b40be004f77c8ebe\\.mesonpy-p3t9k52i\\build\n",
      "      Build type: native build\n",
      "      Project name: pandas\n",
      "      Project version: 2.2.1\n",
      "      \n",
      "      ..\\..\\meson.build:2:0: ERROR: Could not parse vswhere.exe output\n",
      "      \n",
      "      A full log can be found at C:\\Users\\E1005238\\AppData\\Local\\Temp\\pip-install-1gyuezd1\\pandas_6483391ea07e4fc5b40be004f77c8ebe\\.mesonpy-p3t9k52i\\build\\meson-logs\\meson-log.txt\n",
      "      [end of output]\n",
      "  \n",
      "  note: This error originates from a subprocess, and is likely not a problem with pip.\n",
      "error: metadata-generation-failed\n",
      "\n",
      "× Encountered error while generating package metadata.\n",
      "╰─> See above for output.\n",
      "\n",
      "note: This is an issue with the package mentioned above, not pip.\n",
      "hint: See above for details.\n",
      "\n",
      "[notice] A new release of pip available: 22.2.2 -> 24.0\n",
      "[notice] To update, run: python.exe -m pip install --upgrade pip\n"
     ]
    }
   ],
   "source": [
    "%pip install pandas"
   ]
  },
  {
   "cell_type": "markdown",
   "metadata": {},
   "source": [
    "## Creating data\n",
    "- Dictionaries \n",
    "- Import from csv"
   ]
  },
  {
   "cell_type": "code",
   "execution_count": 2,
   "metadata": {},
   "outputs": [
    {
     "name": "stdout",
     "output_type": "stream",
     "text": [
      "Found existing installation: numpy 1.26.4\n",
      "Uninstalling numpy-1.26.4:\n",
      "  Successfully uninstalled numpy-1.26.4\n"
     ]
    }
   ],
   "source": [
    "!pip uninstall numpy -y"
   ]
  },
  {
   "cell_type": "code",
   "execution_count": null,
   "metadata": {},
   "outputs": [],
   "source": []
  }
 ],
 "metadata": {
  "kernelspec": {
   "display_name": "myenv",
   "language": "python",
   "name": "python3"
  },
  "language_info": {
   "codemirror_mode": {
    "name": "ipython",
    "version": 3
   },
   "file_extension": ".py",
   "mimetype": "text/x-python",
   "name": "python",
   "nbconvert_exporter": "python",
   "pygments_lexer": "ipython3",
   "version": "3.10.8"
  }
 },
 "nbformat": 4,
 "nbformat_minor": 2
}
