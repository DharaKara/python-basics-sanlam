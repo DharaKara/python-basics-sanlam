{
 "cells": [
  {
   "cell_type": "code",
   "execution_count": 1,
   "metadata": {},
   "outputs": [
    {
     "data": {
      "text/plain": [
       "[2, 4, 5]"
      ]
     },
     "execution_count": 1,
     "metadata": {},
     "output_type": "execute_result"
    }
   ],
   "source": [
    "nums = [2, 4, 5]\n",
    "nums"
   ]
  },
  {
   "cell_type": "code",
   "execution_count": 3,
   "metadata": {},
   "outputs": [
    {
     "data": {
      "text/plain": [
       "[4, 8, 10]"
      ]
     },
     "execution_count": 3,
     "metadata": {},
     "output_type": "execute_result"
    }
   ],
   "source": [
    "dbl = [n*2 for n in nums]\n",
    "dbl"
   ]
  },
  {
   "cell_type": "code",
   "execution_count": 3,
   "metadata": {},
   "outputs": [],
   "source": [
    "import json\n",
    "\n",
    "with open(\"blog_post.json\", \"r\") as file:\n",
    "    data = json.load(file)\n",
    "\n",
    "posts_summary = []\n",
    "for post in data[\"posts\"]:\n",
    "    post_summary = {\n",
    "        \"title\": post[\"title\"],\n",
    "        \"author\": post[\"author\"],\n",
    "        \"number_of_comments\": len(post[\"comments\"]),\n",
    "    }\n",
    "    posts_summary.append(post_summary)\n",
    "\n",
    "with open(\"posts_summary.json\", \"w\") as file:\n",
    "    json.dump({\"posts_summary\": posts_summary}, file, indent=4)"
   ]
  }
 ],
 "metadata": {
  "kernelspec": {
   "display_name": "myenv",
   "language": "python",
   "name": "python3"
  },
  "language_info": {
   "codemirror_mode": {
    "name": "ipython",
    "version": 3
   },
   "file_extension": ".py",
   "mimetype": "text/x-python",
   "name": "python",
   "nbconvert_exporter": "python",
   "pygments_lexer": "ipython3",
   "version": "3.10.8"
  }
 },
 "nbformat": 4,
 "nbformat_minor": 2
}
