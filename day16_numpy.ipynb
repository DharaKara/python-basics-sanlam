{
 "cells": [
  {
   "cell_type": "markdown",
   "metadata": {},
   "source": [
    "## Numpy\n",
    "- Statistical\n"
   ]
  },
  {
   "cell_type": "code",
   "execution_count": 1,
   "metadata": {},
   "outputs": [
    {
     "name": "stdout",
     "output_type": "stream",
     "text": [
      "Collecting numpy\n",
      "  Downloading numpy-1.26.4-cp310-cp310-win32.whl (6.0 MB)\n",
      "     ---------------------------------------- 6.0/6.0 MB 2.3 MB/s eta 0:00:00\n",
      "Installing collected packages: numpy\n",
      "Successfully installed numpy-1.26.4\n",
      "Note: you may need to restart the kernel to use updated packages.\n"
     ]
    },
    {
     "name": "stderr",
     "output_type": "stream",
     "text": [
      "\n",
      "[notice] A new release of pip available: 22.2.2 -> 24.0\n",
      "[notice] To update, run: python.exe -m pip install --upgrade pip\n"
     ]
    }
   ],
   "source": [
    "%pip install numpy"
   ]
  },
  {
   "cell_type": "code",
   "execution_count": 2,
   "metadata": {},
   "outputs": [],
   "source": [
    "import numpy as np"
   ]
  },
  {
   "cell_type": "markdown",
   "metadata": {},
   "source": [
    "## Shortcuts\n",
    "- `ctl + alt` + enter -> run the cell \n",
    "- `shift + enter` -> next cell"
   ]
  },
  {
   "cell_type": "code",
   "execution_count": 11,
   "metadata": {},
   "outputs": [],
   "source": [
    "marks = np.array([90, 80, 20, 40])\n",
    "marks * 2 # actually multiplying element \n",
    "\n",
    "marks_list=[90, 80, 20, 40]\n",
    "# marks_list * 2 # repeating array \n",
    "marks_list_double = [x * 2 for x in marks_list]"
   ]
  },
  {
   "cell_type": "code",
   "execution_count": 13,
   "metadata": {},
   "outputs": [
    {
     "data": {
      "text/plain": [
       "array([0., 0., 0., 0., 0., 0., 0., 0., 0., 0., 0., 0., 0., 0., 0., 0., 0.,\n",
       "       0., 0., 0., 0., 0., 0., 0., 0., 0., 0., 0., 0., 0., 0., 0., 0., 0.,\n",
       "       0., 0., 0., 0., 0., 0., 0., 0., 0., 0., 0., 0., 0., 0., 0., 0., 0.,\n",
       "       0., 0., 0., 0., 0., 0., 0., 0., 0., 0., 0., 0., 0., 0., 0., 0., 0.,\n",
       "       0., 0., 0., 0., 0., 0., 0., 0., 0., 0., 0., 0., 0., 0., 0., 0., 0.,\n",
       "       0., 0., 0., 0., 0.])"
      ]
     },
     "execution_count": 13,
     "metadata": {},
     "output_type": "execute_result"
    }
   ],
   "source": [
    "np.ones(200) # identity matrix\n",
    "np.zeros(90)"
   ]
  },
  {
   "cell_type": "code",
   "execution_count": 15,
   "metadata": {},
   "outputs": [
    {
     "data": {
      "text/plain": [
       "array([1, 3, 5, 7, 9])"
      ]
     },
     "execution_count": 15,
     "metadata": {},
     "output_type": "execute_result"
    }
   ],
   "source": [
    "np.arange(10)\n",
    "np.arange(1, 10)\n",
    "np.arange(1, 10, 2) # begin, end, step"
   ]
  },
  {
   "cell_type": "code",
   "execution_count": 16,
   "metadata": {},
   "outputs": [
    {
     "data": {
      "text/plain": [
       "array([False, False, False, False, False, False,  True,  True,  True,\n",
       "        True])"
      ]
     },
     "execution_count": 16,
     "metadata": {},
     "output_type": "execute_result"
    }
   ],
   "source": [
    "np.arange(10) > 5"
   ]
  },
  {
   "cell_type": "code",
   "execution_count": 17,
   "metadata": {},
   "outputs": [
    {
     "data": {
      "text/plain": [
       "array([ 0,  2,  4,  6,  8, 10, 12, 14, 16, 18])"
      ]
     },
     "execution_count": 17,
     "metadata": {},
     "output_type": "execute_result"
    }
   ],
   "source": [
    "np.arange(10) * 2"
   ]
  },
  {
   "cell_type": "code",
   "execution_count": null,
   "metadata": {},
   "outputs": [],
   "source": [
    "first_ten_nums = np.arange(1, 11)\n",
    "all_gt_five = first_ten_nums > 5\n",
    "print(first_ten_nums[all_gt_five])\n",
    "print(first_ten_nums[first_ten_nums > 5])\n",
    "first_ten_nums"
   ]
  },
  {
   "cell_type": "markdown",
   "metadata": {},
   "source": [
    "## Task\n",
    "create a 1..200 numbers and provide a numpy array with all even numbers\n",
    "\n"
   ]
  },
  {
   "cell_type": "code",
   "execution_count": null,
   "metadata": {},
   "outputs": [],
   "source": [
    "nums = np.arange(1, 201, 2) # with skip/step\n",
    "nums\n",
    "\n",
    "nums = np.arange(1, 201)\n",
    "even_nums = nums[nums % 2 == 0] # without skip/step\n",
    "even_nums"
   ]
  },
  {
   "cell_type": "code",
   "execution_count": null,
   "metadata": {},
   "outputs": [],
   "source": [
    "ages = np.random.randint(18, 60, 50) # last val is for how much rand vals one wants\n",
    "ages_list = ages.tolist()\n",
    "ages_list"
   ]
  },
  {
   "cell_type": "markdown",
   "metadata": {},
   "source": [
    "## Operations\n",
    "- multiply\n",
    "- division\n",
    "- addition\n",
    "- subtraction"
   ]
  },
  {
   "cell_type": "code",
   "execution_count": 55,
   "metadata": {},
   "outputs": [
    {
     "data": {
      "text/plain": [
       "array([-2, -1,  0,  1,  2,  3,  4,  5,  6,  7])"
      ]
     },
     "execution_count": 55,
     "metadata": {},
     "output_type": "execute_result"
    }
   ],
   "source": [
    "np.arange(10) * 2\n",
    "np.arange(10) + 2\n",
    "np.arange(10) / 2\n",
    "np.arange(10) - 2"
   ]
  },
  {
   "cell_type": "markdown",
   "metadata": {},
   "source": [
    "## Performance \n",
    "- arrange "
   ]
  },
  {
   "cell_type": "code",
   "execution_count": null,
   "metadata": {},
   "outputs": [],
   "source": [
    "%%time\n",
    "double_ages = [age * 2 for age in ages_list]\n",
    "print(double_ages)"
   ]
  },
  {
   "cell_type": "code",
   "execution_count": 31,
   "metadata": {},
   "outputs": [
    {
     "name": "stdout",
     "output_type": "stream",
     "text": [
      "CPU times: total: 0 ns\n",
      "Wall time: 0 ns\n"
     ]
    },
    {
     "data": {
      "text/plain": [
       "array([114,  68,  38,  86,  54,  92,  42,  46,  42,  88,  92,  62, 116,\n",
       "       104, 118,  52,  54,  56,  70,  36,  86,  88,  82,  38, 104,  84,\n",
       "       108,  68, 112, 106, 110, 110, 114,  58,  90,  70,  36, 116,  38,\n",
       "        56, 108,  74,  46, 112,  36,  46,  80,  94,  68, 106])"
      ]
     },
     "execution_count": 31,
     "metadata": {},
     "output_type": "execute_result"
    }
   ],
   "source": [
    "%%time\n",
    "dbl_ages = ages * 2\n",
    "dbl_ages"
   ]
  },
  {
   "cell_type": "markdown",
   "metadata": {},
   "source": [
    "## Statistical oriented - mean, mode, median, std\n",
    "- `mean` <-> average\n",
    "- `mode` <-> the most repeated number (most popular)\n",
    "- `median` <-> middle number when sorted, if list even then take the average of the two middle nums\n",
    "- `standard deviation` <-> average distance between the mean and median\n"
   ]
  },
  {
   "cell_type": "code",
   "execution_count": 33,
   "metadata": {},
   "outputs": [
    {
     "name": "stdout",
     "output_type": "stream",
     "text": [
      "[56 92 68 58 66 95 61 51 87 91]\n",
      "72.5\n",
      "72.5\n"
     ]
    }
   ],
   "source": [
    "marks = np.random.randint(40, 100, 10)\n",
    "print(marks)\n",
    "print(marks.mean())\n",
    "print(np.mean(marks))"
   ]
  },
  {
   "cell_type": "code",
   "execution_count": 34,
   "metadata": {},
   "outputs": [
    {
     "data": {
      "text/plain": [
       "67.0"
      ]
     },
     "execution_count": 34,
     "metadata": {},
     "output_type": "execute_result"
    }
   ],
   "source": [
    "np.median(marks)"
   ]
  },
  {
   "cell_type": "code",
   "execution_count": 35,
   "metadata": {},
   "outputs": [
    {
     "data": {
      "text/plain": [
       "725"
      ]
     },
     "execution_count": 35,
     "metadata": {},
     "output_type": "execute_result"
    }
   ],
   "source": [
    "np.sum(marks)"
   ]
  },
  {
   "cell_type": "code",
   "execution_count": 54,
   "metadata": {},
   "outputs": [
    {
     "data": {
      "text/plain": [
       "16.057708429287164"
      ]
     },
     "execution_count": 54,
     "metadata": {},
     "output_type": "execute_result"
    }
   ],
   "source": [
    "np.std(marks)"
   ]
  },
  {
   "cell_type": "markdown",
   "metadata": {},
   "source": [
    "## Task \n",
    "investment = 1_000\n",
    "rate_of_interest -> 5%\n",
    "at the end of 2 years what is the balance?\n",
    "\n",
    "year 1 R50 -> R1050\n",
    "year 2 R52.5 -> R1102.5\n",
    "\n",
    "### Task 1\n",
    "at the every year tell me balance for 10 years\n",
    "\n",
    "### Task 2 \n",
    "at the year of ten years what will be the balance\n",
    "\n",
    "### Task 3\n",
    "How is much % its increase is compared to first year"
   ]
  },
  {
   "cell_type": "code",
   "execution_count": 48,
   "metadata": {},
   "outputs": [
    {
     "name": "stdout",
     "output_type": "stream",
     "text": [
      "[1050.         1102.5        1157.625      1215.50625    1276.2815625\n",
      " 1340.09564063 1407.10042266 1477.45544379 1551.32821598 1628.89462678]\n"
     ]
    }
   ],
   "source": [
    "# Task 1\n",
    "years = np.arange(1, 11)\n",
    "yearly_return = 1000 * 1.05 ** years\n",
    "print(yearly_return)"
   ]
  },
  {
   "cell_type": "code",
   "execution_count": 50,
   "metadata": {},
   "outputs": [
    {
     "name": "stdout",
     "output_type": "stream",
     "text": [
      "1628.894626777442\n"
     ]
    }
   ],
   "source": [
    "# Task 2\n",
    "balance_year_10 = yearly_return[-1] \n",
    "print(balance_year_10)"
   ]
  },
  {
   "cell_type": "code",
   "execution_count": 53,
   "metadata": {},
   "outputs": [
    {
     "name": "stdout",
     "output_type": "stream",
     "text": [
      "62.89\n"
     ]
    }
   ],
   "source": [
    "# Task 3\n",
    "# balance_year_1 = yearly_return[0]  \n",
    "investment = 1000\n",
    "percentage_increase = ((balance_year_10 - investment) / investment) * 100\n",
    "\n",
    "print(round(percentage_increase, 2))\n"
   ]
  },
  {
   "cell_type": "markdown",
   "metadata": {},
   "source": [
    "## Useful methods\n",
    "- string methods\n",
    "- unique\n",
    "- max, min"
   ]
  },
  {
   "cell_type": "code",
   "execution_count": 56,
   "metadata": {},
   "outputs": [
    {
     "name": "stdout",
     "output_type": "stream",
     "text": [
      "[8713 1720 1284 3191 1251 9587 3324 3320 3086 9695]\n"
     ]
    }
   ],
   "source": [
    "salaries = np.random.randint(1_000, 10_000, 10)\n",
    "print(salaries)"
   ]
  },
  {
   "cell_type": "code",
   "execution_count": 61,
   "metadata": {},
   "outputs": [
    {
     "name": "stdout",
     "output_type": "stream",
     "text": [
      "9695 9\n",
      "1251 4\n"
     ]
    }
   ],
   "source": [
    "print(np.max(salaries), np.argmax(salaries))\n",
    "print(np.min(salaries), np.argmin(salaries))\n"
   ]
  },
  {
   "cell_type": "code",
   "execution_count": 58,
   "metadata": {},
   "outputs": [
    {
     "data": {
      "text/plain": [
       "array([3, 2, 3, 1, 2, 3, 2, 1, 3, 2])"
      ]
     },
     "execution_count": 58,
     "metadata": {},
     "output_type": "execute_result"
    }
   ],
   "source": [
    "nums = np.random.randint(1, 4, 10)\n",
    "nums"
   ]
  },
  {
   "cell_type": "code",
   "execution_count": 60,
   "metadata": {},
   "outputs": [
    {
     "data": {
      "text/plain": [
       "array([3, 2, 1])"
      ]
     },
     "execution_count": 60,
     "metadata": {},
     "output_type": "execute_result"
    }
   ],
   "source": [
    "uniq_names = np.unique(nums)\n",
    "np.flip(uniq_names) # reverse the array"
   ]
  },
  {
   "cell_type": "code",
   "execution_count": 70,
   "metadata": {},
   "outputs": [
    {
     "name": "stdout",
     "output_type": "stream",
     "text": [
      "['apple' 'banana' 'blueberry' 'cucumber' 'grape' 'kiwi' 'lemon' 'mango'\n",
      " 'orange' 'pineapple' 'raspberry' 'tomato']\n"
     ]
    }
   ],
   "source": [
    "items = np.array([' Apple', 'banana ', 'GRAPE', 'cucumber', 'Pineapple', ' tomato ', 'Orange', ' lemon', 'Kiwi ', 'mango', 'blueberry ', ' raspberry'])\n",
    "unique_items = np.unique(np.char.lower(np.char.strip(items)))\n",
    "print(unique_items)"
   ]
  },
  {
   "cell_type": "code",
   "execution_count": 85,
   "metadata": {},
   "outputs": [
    {
     "name": "stdout",
     "output_type": "stream",
     "text": [
      "['banana' 'blueberry']\n",
      "['apple' 'cucumber' 'grape' 'lemon' 'orange' 'raspberry']\n"
     ]
    }
   ],
   "source": [
    "start_with_b = unique_items[np.char.startswith(unique_items, 'b')]\n",
    "print(start_with_b)\n",
    "\n",
    "contain_e_once = unique_items[np.char.count(unique_items, 'e') == 1]\n",
    "print(contain_e_once)"
   ]
  },
  {
   "cell_type": "code",
   "execution_count": 89,
   "metadata": {},
   "outputs": [
    {
     "name": "stdout",
     "output_type": "stream",
     "text": [
      "Total visitors: 2366\n",
      "Peak hour: 1\n",
      "Average visitors per hour: 236.6/h\n"
     ]
    }
   ],
   "source": [
    "hourly_vistitors = [468, 279,  73, 272, 406, 128, 302, 216, 140, 82]\n",
    "arr_hourly_vistitors = np.array(hourly_vistitors)\n",
    " \n",
    "print(\"Total visitors:\", np.sum(arr_hourly_vistitors))\n",
    "print(\"Peak hour:\", np.argmax(arr_hourly_vistitors)+1)\n",
    "print(f\"Average visitors per hour: {np.mean(arr_hourly_vistitors)}/h\")"
   ]
  },
  {
   "cell_type": "code",
   "execution_count": 91,
   "metadata": {},
   "outputs": [
    {
     "data": {
      "text/plain": [
       "(3, 3)"
      ]
     },
     "execution_count": 91,
     "metadata": {},
     "output_type": "execute_result"
    }
   ],
   "source": [
    "nums_3D = np.array([[1, 3, 4],\n",
    "                   [6, 10, 77],\n",
    "                   [9, 20, 24]\n",
    "                   ])\n",
    "nums_3D.shape"
   ]
  },
  {
   "cell_type": "code",
   "execution_count": 94,
   "metadata": {},
   "outputs": [
    {
     "name": "stdout",
     "output_type": "stream",
     "text": [
      "[1 2 3 4 5 6 7 8 9]\n"
     ]
    },
    {
     "data": {
      "text/plain": [
       "(9,)"
      ]
     },
     "execution_count": 94,
     "metadata": {},
     "output_type": "execute_result"
    }
   ],
   "source": [
    "nums1 = np.arange(1, 10)\n",
    "print(nums1)\n",
    "nums1.shape \n"
   ]
  },
  {
   "cell_type": "code",
   "execution_count": 95,
   "metadata": {},
   "outputs": [
    {
     "data": {
      "text/plain": [
       "(3, 3)"
      ]
     },
     "execution_count": 95,
     "metadata": {},
     "output_type": "execute_result"
    }
   ],
   "source": [
    "nums1.reshape(3,3).shape"
   ]
  },
  {
   "cell_type": "code",
   "execution_count": 96,
   "metadata": {},
   "outputs": [
    {
     "data": {
      "text/plain": [
       "2.581988897471611"
      ]
     },
     "execution_count": 96,
     "metadata": {},
     "output_type": "execute_result"
    }
   ],
   "source": [
    "nums_3x3 = nums1.reshape(3,3) \n",
    "np.sum(nums_3x3)\n",
    "np.mean(nums_3x3)\n",
    "np.std(nums_3x3)"
   ]
  },
  {
   "cell_type": "code",
   "execution_count": 105,
   "metadata": {},
   "outputs": [
    {
     "name": "stdout",
     "output_type": "stream",
     "text": [
      "[[1 2 3]\n",
      " [4 5 6]\n",
      " [7 8 9]]\n"
     ]
    },
    {
     "data": {
      "text/plain": [
       "45"
      ]
     },
     "execution_count": 105,
     "metadata": {},
     "output_type": "execute_result"
    }
   ],
   "source": [
    "print(nums_3x3)\n",
    "np.sum(nums_3x3, axis=0) # column\n",
    "np.sum(nums_3x3, axis=1) # row\n",
    "np.sum(np.sum(nums_3x3, axis=1)) "
   ]
  },
  {
   "cell_type": "code",
   "execution_count": 107,
   "metadata": {},
   "outputs": [
    {
     "data": {
      "text/plain": [
       "array([[-1,  0,  1],\n",
       "       [ 2,  3,  4],\n",
       "       [ 5,  6,  7]])"
      ]
     },
     "execution_count": 107,
     "metadata": {},
     "output_type": "execute_result"
    }
   ],
   "source": [
    "nums_3x3 * 2\n",
    "nums_3x3 + 2\n",
    "nums_3x3 / 2\n",
    "nums_3x3 - 2"
   ]
  },
  {
   "cell_type": "code",
   "execution_count": 112,
   "metadata": {},
   "outputs": [
    {
     "data": {
      "text/plain": [
       "array([40, 57, 44, 53, 50, 92, 56, 81, 77])"
      ]
     },
     "execution_count": 112,
     "metadata": {},
     "output_type": "execute_result"
    }
   ],
   "source": [
    "stats = np.random.randint(40, 100, 9)\n",
    "stats"
   ]
  },
  {
   "cell_type": "code",
   "execution_count": 115,
   "metadata": {},
   "outputs": [
    {
     "name": "stdout",
     "output_type": "stream",
     "text": [
      "[[40 57 44]\n",
      " [53 50 92]\n",
      " [56 81 77]]\n",
      "[[1 2 3]\n",
      " [4 5 6]\n",
      " [7 8 9]]\n",
      "\n",
      "Results\n",
      "[[41 59 47]\n",
      " [57 55 98]\n",
      " [63 89 86]]\n"
     ]
    }
   ],
   "source": [
    "stats_3x3 = stats.reshape(3, 3)\n",
    "print(stats_3x3)\n",
    "print(nums_3x3)\n",
    "\n",
    "print(\"\\nResults\")\n",
    "print(stats_3x3 + nums_3x3)"
   ]
  },
  {
   "cell_type": "code",
   "execution_count": 116,
   "metadata": {},
   "outputs": [
    {
     "name": "stdout",
     "output_type": "stream",
     "text": [
      "Average temperature of every part of the room:\n",
      "[[23.5 24.  23. ]\n",
      " [21.  21.5 21.5]\n",
      " [25.5 25.5 25. ]]\n"
     ]
    }
   ],
   "source": [
    "# task 1: find the average temperature of every part of the room \n",
    "# expected output 3x3 matrix with average of sensors\n",
    "# [23.3 .....]\n",
    "# [..........]\n",
    "# [........25]\n",
    "\n",
    "sensor1 = np.array([[23, 25, 22],\n",
    "                    [20, 21, 20],\n",
    "                    [26, 25, 24]])\n",
    " \n",
    "sensor2 = np.array([[24, 23, 24],\n",
    "                    [22, 22, 23],\n",
    "                    [25, 26, 26]])\n",
    "\n",
    "\n",
    "average_temperature = (sensor1 + sensor2) / 2\n",
    "print(\"Average temperature of every part of the room:\")\n",
    "print(average_temperature)"
   ]
  },
  {
   "cell_type": "code",
   "execution_count": 125,
   "metadata": {},
   "outputs": [
    {
     "name": "stdout",
     "output_type": "stream",
     "text": [
      "[23.3 20.3 25. ]\n",
      "[23.7 22.3 25.7]\n"
     ]
    }
   ],
   "source": [
    "# task 2: find the average temp given across a suite by sensor 1 and sensor 2 \n",
    "avg_temp_per_suite_sensor1 = np.round(np.mean(sensor1, axis=1), 1)\n",
    "avg_temp_per_suite_sensor2 = np.round(np.mean(sensor2, axis=1), 1)\n",
    "\n",
    "print(avg_temp_per_suite_sensor1)\n",
    "print(avg_temp_per_suite_sensor2)"
   ]
  },
  {
   "cell_type": "code",
   "execution_count": 128,
   "metadata": {},
   "outputs": [
    {
     "name": "stdout",
     "output_type": "stream",
     "text": [
      "[23.5  21.3  25.35]\n"
     ]
    }
   ],
   "source": [
    "# task 3: combine average temperature of sensor 1 and sensor 2 per suite\n",
    "combined = (avg_temp_per_suite_sensor1 + avg_temp_per_suite_sensor2)/2\n",
    "print(combined)"
   ]
  }
 ],
 "metadata": {
  "kernelspec": {
   "display_name": "myenv",
   "language": "python",
   "name": "python3"
  },
  "language_info": {
   "codemirror_mode": {
    "name": "ipython",
    "version": 3
   },
   "file_extension": ".py",
   "mimetype": "text/x-python",
   "name": "python",
   "nbconvert_exporter": "python",
   "pygments_lexer": "ipython3",
   "version": "3.10.8"
  }
 },
 "nbformat": 4,
 "nbformat_minor": 2
}
